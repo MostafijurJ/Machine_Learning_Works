{
  "nbformat": 4,
  "nbformat_minor": 0,
  "metadata": {
    "colab": {
      "name": "Copy of Trained.ipynb",
      "version": "0.3.2",
      "provenance": [],
      "private_outputs": true,
      "collapsed_sections": [],
      "include_colab_link": true
    },
    "kernelspec": {
      "name": "python3",
      "display_name": "Python 3"
    }
  },
  "cells": [
    {
      "cell_type": "markdown",
      "metadata": {
        "id": "view-in-github",
        "colab_type": "text"
      },
      "source": [
        "<a href=\"https://colab.research.google.com/github/MostafjurJ/Machine_Learning_Works/blob/master/Trained.ipynb\" target=\"_parent\"><img src=\"https://colab.research.google.com/assets/colab-badge.svg\" alt=\"Open In Colab\"/></a>"
      ]
    },
    {
      "metadata": {
        "id": "E48Www_80JAJ",
        "colab_type": "code",
        "colab": {}
      },
      "cell_type": "code",
      "source": [
        "from sklearn import tree\n",
        "p=tree.DecisionTreeClassifier()\n",
        "\n",
        "x=[[101,1], [120,1],[130,0],[110,2]]\n",
        "y = [0,0,1,2]\n",
        "\n",
        "p=p.fit(x,y)\n",
        "\n",
        "print(p.predict([[111,1]]))"
      ],
      "execution_count": 0,
      "outputs": []
    }
  ]
}